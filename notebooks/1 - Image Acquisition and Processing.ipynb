{
 "cells": [
  {
   "cell_type": "markdown",
   "metadata": {},
   "source": [
    "# References"
   ]
  },
  {
   "cell_type": "markdown",
   "metadata": {},
   "source": [
    "## For Input Data\n",
    "\n",
    "Used under, Attribution 2.0 Generic (CC BY 2.0)\n",
    "\n",
    "### Attributions\n",
    "\n",
    "Photo by <a href=\"https://pixnio.com/science/microscopy-images/escherichia-coli/fluorescent-antibody-stained-photomicrograph-revealed-the-presence-of-enteropathogenic-escherichia-coli-bacteria\">Berenice Thomason, USCDCP</a> on <a href=\"https://pixnio.com/\">Pixnio</a>\n",
    "\n",
    "Photo by <a href=\"https://pixnio.com/science/microscopy-images/escherichia-coli/e-coli-is-a-member-of-the-family-of-bacterial-organisms-within-the-family-enteribacteriaceae\">Berenice Thomason, USCDCP</a> on <a href=\"https://pixnio.com/\">Pixnio</a>\n",
    "\n",
    "Photo by <a href=\"https://pixnio.com/science/microscopy-images/escherichia-coli/fluorescent-antibody-stained-photomicrograph-depicted-numbers-of-gram-negative-enteropathogenic-escherichia-coli\">Charles Farmer, USCDCP</a> on <a href=\"https://pixnio.com/\">Pixnio</a>\n",
    "\n",
    "Photo by <a href=\"https://pixnio.com/science/microscopy-images/tularemia-francisella-tularensis/photomicrograph-depicts-francisella-tularensis-bacteria-as-seen-with-a-fluorescent-antibody-stain\">Ann Hebert, USCDCP</a> on <a href=\"https://pixnio.com/\">Pixnio</a>\n",
    "\n",
    "Photo by <a href=\"https://pixnio.com/science/microscopy-images/leptospirosis-leptospira-spp/photomicrograph-of-a-fluorescent-antibody-fa-stain-of-leptospira-bacteria-in-a-liver-impression-smear\">Mildred Galton, USCDCP</a> on <a href=\"https://pixnio.com/\">Pixnio</a>\n",
    "\n",
    "https://flic.kr/p/MBT6tX\n",
    "\n",
    "https://flic.kr/p/C7kZRb\n",
    "\n",
    "https://flic.kr/p/NDky43\n",
    "\n",
    "https://flic.kr/p/D4LTEC\n",
    "\n",
    "https://flic.kr/p/C9zyNY\n",
    "\n",
    "https://flic.kr/p/C9zyS5\n",
    "\n",
    "https://flic.kr/p/CYNoGi\n",
    "\n",
    "https://visualsonline.cancer.gov/details.cfm?imageid=11223\n",
    "\n",
    "https://visualsonline.cancer.gov/details.cfm?imageid=10869\n",
    "\n",
    "https://visualsonline.cancer.gov/details.cfm?imageid=10873\n",
    "\n",
    "https://visualsonline.cancer.gov/details.cfm?imageid=10866\n",
    "\n",
    "https://visualsonline.cancer.gov/details.cfm?imageid=11249\n",
    "\n",
    "https://visualsonline.cancer.gov/details.cfm?imageid=11261\n",
    "\n",
    "https://visualsonline.cancer.gov/details.cfm?imageid=11240\n",
    "\n",
    "https://visualsonline.cancer.gov/details.cfm?imageid=11265\n",
    "\n",
    "https://visualsonline.cancer.gov/details.cfm?imageid=11238\n",
    "\n",
    "https://visualsonline.cancer.gov/details.cfm?imageid=11260\n",
    "\n",
    "https://visualsonline.cancer.gov/details.cfm?imageid=10858\n",
    "\n",
    "https://visualsonline.cancer.gov/details.cfm?imageid=11167\n",
    "\n",
    "https://visualsonline.cancer.gov/details.cfm?imageid=11247"
   ]
  },
  {
   "cell_type": "markdown",
   "metadata": {},
   "source": [
    "## General\n",
    "\n",
    "https://arstechnica.com/science/2018/08/minigame-integrated-into-eve-online-helps-scientists-understand-cells/\n",
    "\n",
    "https://keras.io/api/preprocessing/image/\n",
    "\n",
    "https://www.breakingbayes.com/2017/08/29/designing-a-cnn-preprocessing-architecture-and-parameters/\n",
    "\n",
    "https://towardsdatascience.com/boost-your-cnn-image-classifier-performance-with-progressive-resizing-in-keras-a7d96da06e20\n",
    "\n",
    "Yim, J., & Sohn, K. A. (2017, November). Enhancing the performance of convolutional neural networks on quality degraded datasets. In 2017 International Conference on Digital Image Computing: Techniques and Applications (DICTA) (pp. 1-8). IEEE.\n",
    "\n",
    "Janke, J., Castelli, M., & Popovič, A. (2019). Analysis of the proficiency of fully connected neural networks in the process of classifying digital images. Benchmark of different classification algorithms on high-level image features from convolutional layers. Expert Systems with Applications, 135, 12-38.\n",
    "\n",
    "Hossain, M. T., Teng, S. W., Zhang, D., Lim, S., & Lu, G. (2019, September). Distortion robust image classification using deep convolutional neural network with discrete cosine transform. In 2019 IEEE International Conference on Image Processing (ICIP) (pp. 659-663). IEEE.\n",
    "\n",
    "Yim, J., Kim, J. J., & Shin, D. (2018). One-shot item search with multimodal data. arXiv preprint arXiv:1811.10969.\n",
    "\n",
    "Seals, M. (2019). On the Robustness of Object Detection Based Deep Learning Models."
   ]
  },
  {
   "cell_type": "code",
   "execution_count": null,
   "metadata": {},
   "outputs": [],
   "source": []
  }
 ],
 "metadata": {
  "kernelspec": {
   "display_name": "Python 3",
   "language": "python",
   "name": "python3"
  },
  "language_info": {
   "codemirror_mode": {
    "name": "ipython",
    "version": 3
   },
   "file_extension": ".py",
   "mimetype": "text/x-python",
   "name": "python",
   "nbconvert_exporter": "python",
   "pygments_lexer": "ipython3",
   "version": "3.6.9"
  },
  "toc": {
   "base_numbering": 1,
   "nav_menu": {},
   "number_sections": true,
   "sideBar": true,
   "skip_h1_title": false,
   "title_cell": "Table of Contents",
   "title_sidebar": "Contents",
   "toc_cell": false,
   "toc_position": {},
   "toc_section_display": true,
   "toc_window_display": false
  }
 },
 "nbformat": 4,
 "nbformat_minor": 2
}
