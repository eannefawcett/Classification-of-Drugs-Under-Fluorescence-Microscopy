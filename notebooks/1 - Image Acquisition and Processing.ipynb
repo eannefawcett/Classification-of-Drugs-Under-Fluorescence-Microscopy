{
 "cells": [
  {
   "cell_type": "markdown",
   "metadata": {},
   "source": [
    "# References"
   ]
  },
  {
   "cell_type": "markdown",
   "metadata": {},
   "source": [
    "## For Input Data\n",
    "\n",
    "Used under, Attribution 2.0 Generic (CC BY 2.0)\n",
    "\n",
    "### Attributions\n",
    "\n",
    "Photo by <a href=\"https://pixnio.com/science/microscopy-images/escherichia-coli/fluorescent-antibody-stained-photomicrograph-revealed-the-presence-of-enteropathogenic-escherichia-coli-bacteria\">Berenice Thomason, USCDCP</a> on <a href=\"https://pixnio.com/\">Pixnio</a>\n",
    "\n",
    "Photo by <a href=\"https://pixnio.com/science/microscopy-images/escherichia-coli/e-coli-is-a-member-of-the-family-of-bacterial-organisms-within-the-family-enteribacteriaceae\">Berenice Thomason, USCDCP</a> on <a href=\"https://pixnio.com/\">Pixnio</a>\n",
    "\n",
    "Photo by <a href=\"https://pixnio.com/science/microscopy-images/escherichia-coli/fluorescent-antibody-stained-photomicrograph-depicted-numbers-of-gram-negative-enteropathogenic-escherichia-coli\">Charles Farmer, USCDCP</a> on <a href=\"https://pixnio.com/\">Pixnio</a>\n",
    "\n",
    "Photo by <a href=\"https://pixnio.com/science/microscopy-images/tularemia-francisella-tularensis/photomicrograph-depicts-francisella-tularensis-bacteria-as-seen-with-a-fluorescent-antibody-stain\">Ann Hebert, USCDCP</a> on <a href=\"https://pixnio.com/\">Pixnio</a>\n",
    "\n",
    "Photo by <a href=\"https://pixnio.com/science/microscopy-images/leptospirosis-leptospira-spp/photomicrograph-of-a-fluorescent-antibody-fa-stain-of-leptospira-bacteria-in-a-liver-impression-smear\">Mildred Galton, USCDCP</a> on <a href=\"https://pixnio.com/\">Pixnio</a>\n",
    "\n",
    "https://flic.kr/p/MBT6tX\n",
    "\n",
    "https://flic.kr/p/C7kZRb\n",
    "\n",
    "https://flic.kr/p/NDky43\n",
    "\n",
    "https://flic.kr/p/D4LTEC\n",
    "\n",
    "https://flic.kr/p/C9zyNY\n",
    "\n",
    "https://flic.kr/p/C9zyS5\n",
    "\n",
    "https://flic.kr/p/CYNoGi\n",
    "\n",
    "https://visualsonline.cancer.gov/details.cfm?imageid=11223\n",
    "\n",
    "https://visualsonline.cancer.gov/details.cfm?imageid=10869\n",
    "\n",
    "https://visualsonline.cancer.gov/details.cfm?imageid=10873\n",
    "\n",
    "https://visualsonline.cancer.gov/details.cfm?imageid=10866\n",
    "\n",
    "https://visualsonline.cancer.gov/details.cfm?imageid=11249\n",
    "\n",
    "https://visualsonline.cancer.gov/details.cfm?imageid=11261\n",
    "\n",
    "https://visualsonline.cancer.gov/details.cfm?imageid=11240\n",
    "\n",
    "https://visualsonline.cancer.gov/details.cfm?imageid=11265\n",
    "\n",
    "https://visualsonline.cancer.gov/details.cfm?imageid=11238\n",
    "\n",
    "https://visualsonline.cancer.gov/details.cfm?imageid=11260\n",
    "\n",
    "https://visualsonline.cancer.gov/details.cfm?imageid=10858\n",
    "\n",
    "https://visualsonline.cancer.gov/details.cfm?imageid=11167\n",
    "\n",
    "https://visualsonline.cancer.gov/details.cfm?imageid=11247"
   ]
  },
  {
   "cell_type": "code",
   "execution_count": null,
   "metadata": {},
   "outputs": [],
   "source": []
  }
 ],
 "metadata": {
  "kernelspec": {
   "display_name": "Python 3",
   "language": "python",
   "name": "python3"
  },
  "language_info": {
   "codemirror_mode": {
    "name": "ipython",
    "version": 3
   },
   "file_extension": ".py",
   "mimetype": "text/x-python",
   "name": "python",
   "nbconvert_exporter": "python",
   "pygments_lexer": "ipython3",
   "version": "3.6.9"
  },
  "toc": {
   "base_numbering": 1,
   "nav_menu": {},
   "number_sections": true,
   "sideBar": true,
   "skip_h1_title": false,
   "title_cell": "Table of Contents",
   "title_sidebar": "Contents",
   "toc_cell": false,
   "toc_position": {},
   "toc_section_display": true,
   "toc_window_display": false
  }
 },
 "nbformat": 4,
 "nbformat_minor": 2
}
